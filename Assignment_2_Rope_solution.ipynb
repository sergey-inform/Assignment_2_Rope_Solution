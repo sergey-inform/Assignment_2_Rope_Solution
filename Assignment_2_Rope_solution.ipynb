{
 "cells": [
  {
   "cell_type": "markdown",
   "id": "1d1a71c0",
   "metadata": {},
   "source": [
    "# Task Solution\n",
    "\n",
    "by Sergey Ryzhikov\n",
    "\n",
    "**HSE MDS21 - Algorithms2**"
   ]
  },
  {
   "cell_type": "markdown",
   "id": "b4b5a253",
   "metadata": {},
   "source": [
    "## Text editor\n",
    "\n",
    "#### Given a text `T` and a `position` of a caret in the text.\n",
    "\n",
    "You need to implement several functions for editing the text. A user can edit the text by inserting and removing strings of english letters and spaces. You always know the current position of the caret in the text. The user can change the position of the caret. More precisely:\n",
    "\n",
    "1) The text `T` is given. It is a string and might be empty.\n",
    "\n",
    "2) The position of the caret is known and satisfies `0 <= position <= len(T)`.\n",
    "\n",
    "3) The user can insert a string `S` starting from the position of the caret. For instance, `T = \"abc\", position = 1, S = \"df\"`. The resulting text after insertion is `\"adfbc\"`.\n",
    "\n",
    "4) The user can remove a single symbol. For instance, `T = \"abc\", position = 1`. The resulting text after deletion is `\"bc\"`. Another example, `T = \"abc\", position = 0`, the result `\"abc\"`. So, no deletion occurs when position of the caret is zero.\n",
    "\n",
    "5) The user can remove a word. A word is a sequence of letters without spaces or a sequence of spaces without letters. For instance, `T = \"abc de\", position = 3, result = \" de\"`. 2nd example, `T = \"abc de\", position = 4, result = \"abcde\"`. 3rd example `T = \"f abc de\", position = 4, result = \"f c de\"`. No deletion occurs when the position of the caret is zero.\n",
    "\n",
    "6) The user can change the position of the caret by `n`. For instance, `position = 10, n = 5, resulting position = 15`. 2nd example, `position = 10, n = -20, resulting position = 0`. 3rd example, `position = 10, n = 5, len(T) = 14, resulting position = 14`.\n",
    "\n",
    "7) The user can ask for a substring `[i, j)` of the text. For instance, `T = \"ab cdef gh\", i = 5, j = 9, result = \"ef g\"`. `T` is not modified by this method.\n",
    "\n",
    "#### The task: implement the methods of the following class according to their description. Please, provide plenty of unit tests with small texts and stress tests with huge texts of length > 10000. In these tests you need to check that Substr provides correct answers after any number of any of the above operations.\n",
    "\n",
    "Hint: try to use [Rope](https://en.wikipedia.org/wiki/Rope_(data_structure))."
   ]
  },
  {
   "cell_type": "code",
   "execution_count": 1,
   "id": "688bf344",
   "metadata": {},
   "outputs": [],
   "source": [
    "class Editor:\n",
    "    def __init__(self, text, caret):\n",
    "        pass\n",
    "\n",
    "    def Insert(self, string):\n",
    "        pass\n",
    "\n",
    "    def RemoveSymbol(self):\n",
    "        pass\n",
    "\n",
    "    def RemoveWord(self):\n",
    "        pass\n",
    "\n",
    "    def MoveCaret(self, n):\n",
    "        pass\n",
    "\n",
    "    def Substr(self, i, j):\n",
    "        pass"
   ]
  },
  {
   "cell_type": "code",
   "execution_count": 2,
   "id": "be8c48be",
   "metadata": {},
   "outputs": [],
   "source": [
    "\"\"\" Example of one unit test \"\"\"\n",
    "\n",
    "def UnitTest():\n",
    "    T = \"abc\"\n",
    "    caret = 2\n",
    "    editor = Editor(T, caret)\n",
    "    editor.Insert(\"aaaa\")\n",
    "    editor.MoveCaret(10)\n",
    "    editor.RemoveSymbol()\n",
    "    assert editor.Substr(0, 3) == \"aba\""
   ]
  },
  {
   "cell_type": "markdown",
   "id": "de4df709",
   "metadata": {},
   "source": [
    "# Dumb Solution"
   ]
  },
  {
   "cell_type": "markdown",
   "id": "4125e90b",
   "metadata": {},
   "source": [
    "First, add little improvements to the class:\n",
    "  * rename methods according to pep8 naming conventions;\n",
    "  * replace *remove_symbol* with just *remove*.\n",
    "  * let *remove* return the removed part (for unittesting);\n",
    "  * and add type hints (why not)."
   ]
  },
  {
   "cell_type": "code",
   "execution_count": 3,
   "id": "de78c030",
   "metadata": {},
   "outputs": [],
   "source": [
    "class Editor:\n",
    "    def __init__(self, text: str, caret: int) -> None:\n",
    "        pass\n",
    "        \n",
    "    def insert(self, string: str) -> None:\n",
    "        pass\n",
    "\n",
    "    def remove(self, n:int=1, ret=False) -> str:\n",
    "        ''' Returns: removed text if <ret> is True.'''\n",
    "        pass\n",
    "\n",
    "    def remove_word(self, ret=False) -> str:\n",
    "        ''' Returns: removed text if <ret> is True.'''\n",
    "        pass\n",
    "\n",
    "    def move_caret(self, step:int) -> int:\n",
    "        ''' Returns: new caret position.'''\n",
    "        pass\n",
    "\n",
    "    def substr(self, start:int, end:int) -> str:\n",
    "        ''' Returns: self.text[start:end]'''\n",
    "        pass"
   ]
  },
  {
   "cell_type": "markdown",
   "id": "939bf0a7",
   "metadata": {},
   "source": [
    "Now, implement it in simplest possible way: create a copy of the string on each operation. \n",
    "\n",
    ":) Slow and correct is better than fast and wrong. (:"
   ]
  },
  {
   "cell_type": "code",
   "execution_count": 4,
   "id": "e32e2603",
   "metadata": {},
   "outputs": [
    {
     "data": {
      "text/plain": [
       "<__main__.EditorDumb at 0x7f50f83d9b80>"
      ]
     },
     "execution_count": 4,
     "metadata": {},
     "output_type": "execute_result"
    }
   ],
   "source": [
    "# Dumb implementation\n",
    "\n",
    "class EditorDumb:\n",
    "    def __init__(self, text: str, caret: int) -> None:\n",
    "        self.text = text\n",
    "        self.caret = 0\n",
    "        self.move_caret(caret)\n",
    "        \n",
    "    def insert(self, string: str) -> None:\n",
    "        if string:\n",
    "            self.text = self.text[:self.caret] + \\\n",
    "                        string + \\\n",
    "                        self.text[self.caret:]  # O(N) !!\n",
    "            self.caret += len(string)\n",
    "\n",
    "    def remove(self, n:int=1, ret=False) -> str:\n",
    "        ''' Remove text (always to the left of the caret).\n",
    "            Returns: removed text if <ret> is True.\n",
    "        '''\n",
    "        if n == 0:\n",
    "            return \n",
    "        \n",
    "        new_caret = max(0, self.caret - abs(n))  # caret >= 0\n",
    "        retval = self.substr(new_caret, self.caret) if ret else None\n",
    "        \n",
    "        self.text = self.text[:new_caret] + \\\n",
    "                    self.text[self.caret:]  # O(N) !!\n",
    "        self.caret = new_caret\n",
    "        return retval\n",
    "    \n",
    "    def _word_back(self) -> int:\n",
    "        ''' Find a word backwards from the caret position.\n",
    "            A word is either a sequence of non-space characters \n",
    "            or a sequence of spaces. \n",
    "            '''\n",
    "        text = self.text\n",
    "        caret = self.caret\n",
    "        \n",
    "        if caret == 0:\n",
    "            return None\n",
    "        \n",
    "        wpos = 0\n",
    "        if text[caret-1] == ' ':  # the word is a sequence of spaces\n",
    "            wpos = caret-1\n",
    "            while wpos > 0:  # find the first space in the sequence\n",
    "                if text[wpos-1] != ' ':\n",
    "                    break\n",
    "                wpos -= 1\n",
    "        else:\n",
    "            sp = text.rfind(\" \", 0, caret-1)  # position of the last space before caret\n",
    "            if sp != -1:  # rightmost space found\n",
    "                wpos = sp + 1       \n",
    "        return wpos\n",
    "\n",
    "    def remove_word(self, ret=False) -> str:\n",
    "        ''' Removes a word to the left of a caret.\n",
    "            Returns: removed text if <ret> is True.'''\n",
    "        text = self.text\n",
    "        caret = self.caret\n",
    "        \n",
    "        if caret == 0:\n",
    "            return None\n",
    "        \n",
    "        word_pos = self._word_back()\n",
    "        retval = self.substr(word_pos, caret) if ret else None\n",
    "        self.remove(caret - word_pos)\n",
    "        \n",
    "        return retval\n",
    "\n",
    "    def move_caret(self, step:int) -> int:\n",
    "        ''' Returns: new caret position.'''\n",
    "        caret = self.caret\n",
    "        text = self.text \n",
    "        \n",
    "        caret += step\n",
    "        self.caret = min(max(0, caret), len(text))  # 0 <= caret <= len(T)\n",
    "        return self.caret\n",
    "\n",
    "    def substr(self, start:int=None, end:int=None) -> str:\n",
    "        ''' Returns: self.text[start:end]'''\n",
    "        return self.text[start:end]\n",
    "    \n",
    "EditorDumb('abc', 3)"
   ]
  },
  {
   "cell_type": "markdown",
   "id": "8c914210",
   "metadata": {},
   "source": [
    "### Unittests\n",
    "First, check with provided examples."
   ]
  },
  {
   "cell_type": "code",
   "execution_count": 5,
   "id": "c7db458a",
   "metadata": {},
   "outputs": [
    {
     "data": {
      "text/plain": [
       "'OK'"
      ]
     },
     "execution_count": 5,
     "metadata": {},
     "output_type": "execute_result"
    }
   ],
   "source": [
    "def test_examples(class_):\n",
    "    # 3) T = \"abc\", position = 1, S = \"df\". \n",
    "    # The resulting text after insertion is \"adfbc\".\n",
    "    editor = class_('abc', 1)\n",
    "    editor.insert('df')\n",
    "    assert editor.text == \"adfbc\"\n",
    "    \n",
    "    # 4) The user can remove a single symbol. \n",
    "    # For instance, T = \"abc\", position = 1. \n",
    "    # The resulting text after deletion is \"bc\". \n",
    "    editor = class_('abc', 1)\n",
    "    editor.remove()\n",
    "    assert editor.text == \"bc\"\n",
    "    \n",
    "    # Another example, T = \"abc\", position = 0, the result \"abc\".\n",
    "    # So, no deletion occurs when position of the caret is zero.\n",
    "    editor = class_('abc', 0)\n",
    "    editor.remove()\n",
    "    assert editor.text == \"abc\"\n",
    "    \n",
    "    # 5) The user can remove a word. \n",
    "    # For instance, T = \"abc de\", position = 3, result = \" de\".\n",
    "    editor = class_('abc de', 3)\n",
    "    editor.remove_word()\n",
    "    assert editor.text == \" de\"\n",
    "    \n",
    "    # 2nd example, T = \"abc de\", position = 4, result = \"abcde\". \n",
    "    editor = class_('abc de', 4)\n",
    "    editor.remove_word()\n",
    "    assert editor.text == \"abcde\"\n",
    "    \n",
    "    # 3rd example T = \"f abc de\", position = 4, result = \"f c de\".\n",
    "    editor = class_('f abc de', 4)\n",
    "    editor.remove_word()\n",
    "    assert editor.text == \"f c de\"\n",
    "    \n",
    "    # 6) The user can change the position of the caret by n.\n",
    "    # For insance, position = 10, n = 5, resulting position = 15.\n",
    "    editor = class_('x' * 20, 10)\n",
    "    editor.move_caret(5)\n",
    "    assert editor.caret == 15\n",
    "    \n",
    "    #2nd example, position = 10, n = -20, resulting position = 0.\n",
    "    editor = class_('x' * 20, 10)\n",
    "    editor.move_caret(-20)\n",
    "    assert editor.caret == 0\n",
    "    \n",
    "    # 3rd example, position = 10, n = 5, len(T) = 14, resulting position = 14.\n",
    "    editor = class_('x' * 14, 10)\n",
    "    editor.move_caret(5)\n",
    "    assert editor.caret == 14\n",
    "    \n",
    "    # 7) The user can ask for a substring [i, j) of the text. \n",
    "    # For instance, T = \"ab cdef gh\", i = 5, j = 9, result = \"ef g\". \n",
    "    # T is not modified by this method.\n",
    "    t = \"ab cdef gh\"\n",
    "    editor = class_(t, 0)\n",
    "    assert editor.substr(5, 9) == \"ef g\"\n",
    "    assert editor.text == t\n",
    "    \n",
    "test_examples(EditorDumb) or 'OK'"
   ]
  },
  {
   "cell_type": "markdown",
   "id": "79940c70",
   "metadata": {},
   "source": [
    "### Random untittests\n",
    "Second, implement random unittests.\n",
    "\n",
    "> ... In these tests you need to check that Substr provides correct answers \n",
    "> **after any number of any of the above operations.**\n",
    "\n",
    "Really?! ò_ô\n",
    "\n",
    "Ok. Hold my beer...\n",
    "\n",
    "How it works: \n",
    "1. Take some random string.\n",
    "2. Generate a random sequence of operations.\n",
    "3. Perform the operations and build a stack of _inverse operations_.\n",
    "4. Perform the inverse operations on the result -> get the initial string.\n",
    "5. Profit."
   ]
  },
  {
   "cell_type": "code",
   "execution_count": 6,
   "id": "b26b949f",
   "metadata": {},
   "outputs": [],
   "source": [
    "import string, random"
   ]
  },
  {
   "cell_type": "code",
   "execution_count": 7,
   "id": "cfaa45b7",
   "metadata": {},
   "outputs": [
    {
     "name": "stdout",
     "output_type": "stream",
     "text": [
      "wrzrt ivutyha o a wfcyn hufo  ifvun  jfeunxkp    mf tgu cy xhbcnlgkcpbc ybv v z jfhkn cyeqr yo t b   s sbf p  d sbh wr tnrsak qaa y qf ibehpd kmgu lwcocz gr m rvc i  fq faba zgbxpps   xkx y mpfas l  hzfowx  nmf luzygejes\n"
     ]
    }
   ],
   "source": [
    "# Random texts\n",
    "\n",
    "def rand_text(n:int, space_freq = 10) -> str:\n",
    "    ''' Generate a random string of specified length\n",
    "        with a certain probability of space character. '''\n",
    "    letters = ' ' * space_freq + string.ascii_lowercase\n",
    "    return ''.join(random.choices(letters, k=n))\n",
    "\n",
    "print(rand_text(220))"
   ]
  },
  {
   "cell_type": "code",
   "execution_count": 8,
   "id": "8f955bfc",
   "metadata": {},
   "outputs": [],
   "source": [
    "# Random operations\n",
    "\n",
    "def gen_rand_ops(n, ops=[], weights=[], ops_args={}):\n",
    "    if not ops:\n",
    "        ops = ['insert', 'remove', 'remove_word', 'move_caret']\n",
    "        weights = [2,1,1,1]\n",
    "        \n",
    "    if not weights:\n",
    "        weights = [1] * len(ops)\n",
    "        \n",
    "    rand_ops_args = {\n",
    "        'insert': lambda: rand_text(random.randrange(1,5)),\n",
    "        'move_caret': lambda: random.randrange(-2,2),\n",
    "        'remove_word': lambda: None,\n",
    "        'remove': lambda: random.randrange(5),\n",
    "    }\n",
    "    rand_ops_args.update(ops_args)\n",
    "    \n",
    "    return((op, rand_ops_args[op]()) for op in random.choices(ops, weights, k=n))"
   ]
  },
  {
   "cell_type": "code",
   "execution_count": 9,
   "id": "be8249cd",
   "metadata": {},
   "outputs": [
    {
     "name": "stdout",
     "output_type": "stream",
     "text": [
      "('move_caret', -2)\n",
      "('insert', 'wdv')\n",
      "('remove_word', None)\n",
      "('move_caret', -1)\n",
      "('remove_word', None)\n",
      "('remove', 3)\n",
      "('insert', 'ba')\n",
      "('remove', 0)\n",
      "('insert', '  ')\n",
      "('insert', '  ci')\n"
     ]
    }
   ],
   "source": [
    "# Create rand_ops\n",
    "\n",
    "random.seed(23456)\n",
    "rand_ops = list(gen_rand_ops(10))\n",
    "print(*rand_ops, sep='\\n')"
   ]
  },
  {
   "cell_type": "code",
   "execution_count": 10,
   "id": "9c6c5b75",
   "metadata": {},
   "outputs": [
    {
     "name": "stdout",
     "output_type": "stream",
     "text": [
      "5:\"abc d‸ef\" -> [rand ops] ->  8:\"ba    ci‸ def\"\n"
     ]
    }
   ],
   "source": [
    "# Apply rand_ops\n",
    "\n",
    "text, caret = \"abc def\", 5\n",
    "\n",
    "def pr_caret(text, caret):\n",
    "    return f'{caret}:\"{text[:caret]}‸{text[caret:]}\"'\n",
    "\n",
    "ed = EditorDumb(text, caret)\n",
    "for op, *args in rand_ops:\n",
    "    getattr(ed, op)(*args)\n",
    "    \n",
    "print( pr_caret(text, caret), \"-> [rand ops] -> \", pr_caret(ed.text, ed.caret))"
   ]
  },
  {
   "cell_type": "code",
   "execution_count": 11,
   "id": "b31cae6e",
   "metadata": {},
   "outputs": [],
   "source": [
    "# Generate inverse operations\n",
    "\n",
    "def inverse_ops(editor, ops):\n",
    "    ''' Apply operations to editor,\n",
    "        Produce a list of inverse operations.\n",
    "    '''\n",
    "    retval = []\n",
    "    \n",
    "    for op, *args in ops:\n",
    "        if op == 'insert':\n",
    "            string = args[0]\n",
    "            editor.insert(string)  # insert\n",
    "            inv = 'remove', len(string) if string else 0\n",
    "        \n",
    "        elif op == 'remove':\n",
    "            buf = editor.remove(*args, ret=True)\n",
    "            inv = 'insert', buf\n",
    "            \n",
    "        elif op == 'remove_word':\n",
    "            buf = editor.remove_word(ret=True)\n",
    "            inv = 'insert', buf\n",
    "        \n",
    "        elif op == 'move_caret':\n",
    "            car = editor.caret\n",
    "            new_car = editor.move_caret(*args)\n",
    "            inv = 'move_caret', car - new_car\n",
    "            \n",
    "        else:\n",
    "            raise ValueError(f'Unknown operation \"{op[:64]}\"')\n",
    "            \n",
    "        retval.append(inv)\n",
    "        \n",
    "    return list(reversed(retval))"
   ]
  },
  {
   "cell_type": "code",
   "execution_count": 12,
   "id": "11e817d9",
   "metadata": {},
   "outputs": [
    {
     "name": "stdout",
     "output_type": "stream",
     "text": [
      "('remove', 4)\n",
      "('remove', 2)\n",
      "('insert', None)\n",
      "('remove', 2)\n",
      "('insert', 'ba')\n",
      "('insert', '   ')\n",
      "('move_caret', 1)\n",
      "('insert', 'wdv')\n",
      "('remove', 3)\n",
      "('move_caret', 2)\n"
     ]
    }
   ],
   "source": [
    "# Inverse opserations for rand_ops\n",
    "inv_ops = inverse_ops(ed, rand_ops)\n",
    "print(*inv_ops, sep='\\n')"
   ]
  },
  {
   "cell_type": "code",
   "execution_count": 13,
   "id": "1c51dbe8",
   "metadata": {},
   "outputs": [
    {
     "name": "stdout",
     "output_type": "stream",
     "text": [
      "5:\"abc d‸ef\" -> [rand ops] -> [inverse ops]->  5:\"abc d‸ef\"\n",
      "\n",
      "--- rand_ops \n",
      "('move_caret', -2)\n",
      "('insert', 'wdv')\n",
      "('remove_word', None)\n",
      "('move_caret', -1)\n",
      "('remove_word', None)\n",
      "('remove', 3)\n",
      "('insert', 'ba')\n",
      "('remove', 0)\n",
      "('insert', '  ')\n",
      "('insert', '  ci')\n",
      "\n",
      "--- inv_ops \n",
      "('remove', 4)\n",
      "('remove', 2)\n",
      "('insert', None)\n",
      "('remove', 2)\n",
      "('insert', '')\n",
      "('insert', None)\n",
      "('move_caret', 0)\n",
      "('insert', 'abcwdv')\n",
      "('remove', 3)\n",
      "('move_caret', 2)\n",
      "\n",
      "--- inv_inv_ops \n",
      "('move_caret', -2)\n",
      "('insert', 'wdv')\n",
      "('remove', 6)\n",
      "('move_caret', 0)\n",
      "('remove', 0)\n",
      "('remove', 0)\n",
      "('insert', 'ba')\n",
      "('remove', 0)\n",
      "('insert', '  ')\n",
      "('insert', '  ci')\n",
      "\n",
      "---\n",
      "same text? True\n"
     ]
    }
   ],
   "source": [
    "# Check inverse operations\n",
    "\n",
    "#text, caret = \"abcdef\", 5\n",
    "ed = EditorDumb(text, caret)\n",
    "inv_ops = inverse_ops(ed, rand_ops)  # apply random operations\n",
    "inv_inv_ops = inverse_ops(ed, inv_ops)  # apply inverse operations\n",
    "\n",
    "print(pr_caret(text,caret), \n",
    "      \"-> [rand ops] -> [inverse ops]-> \",\n",
    "      pr_caret(ed.text, ed.caret))\n",
    "\n",
    "print('\\n--- rand_ops ')\n",
    "print(*rand_ops, sep='\\n')\n",
    "print('\\n--- inv_ops ')\n",
    "print(*inv_ops, sep='\\n')\n",
    "print('\\n--- inv_inv_ops ')\n",
    "print(*inv_inv_ops, sep='\\n')\n",
    "print('\\n---')\n",
    "print('same text?', text == ed.text)"
   ]
  },
  {
   "cell_type": "markdown",
   "id": "39e758b6",
   "metadata": {},
   "source": [
    "Notice that 'remove_word' in *inv_inv_ops_* is replaced by 'remove'."
   ]
  },
  {
   "cell_type": "markdown",
   "id": "6c4ed80d",
   "metadata": {},
   "source": [
    "### Run Unittests and Stresstests\n",
    "\n",
    "> Please, provide **plenty** of unit tests with small texts \n",
    "> and stress tests with huge texts of length > 10000. \n"
   ]
  },
  {
   "cell_type": "markdown",
   "id": "9d0a802a",
   "metadata": {},
   "source": [
    "So, generate random sets of operations, then generate inverse operations, apply one after another and check that the result is the same as the initial text."
   ]
  },
  {
   "cell_type": "code",
   "execution_count": 14,
   "id": "83d7c642",
   "metadata": {},
   "outputs": [],
   "source": [
    "# 1. Plenty of unit tests\n",
    "\n",
    "def test_random(class_, ntext = 100, nops=1000):\n",
    "    \n",
    "    for seed in range(ntext):\n",
    "        \n",
    "        random.seed(seed)  # make it reproducible\n",
    "        \n",
    "        text = rand_text(random.randrange(0, ntext))\n",
    "        caret = random.randrange(-10, ntext+10)  # initial caret position\n",
    "        \n",
    "        # text operations arguments\n",
    "        op_args = {\n",
    "            'insert': lambda: rand_text(random.randrange(0, ntext)),\n",
    "            'move_caret': lambda: random.randrange(-ntext // 2, ntext // 2),\n",
    "            'remove_word': lambda: None,\n",
    "            'remove': lambda: random.randrange(10),\n",
    "        }\n",
    "        \n",
    "        ops = gen_rand_ops(nops, ops_args=op_args)  \n",
    "        \n",
    "        try:\n",
    "            ed = class_(text, caret)\n",
    "            caret = ed.caret\n",
    "            inv_ops = inverse_ops(ed, ops)  # apply operations, get inverse\n",
    "            inv_inv_ops = inverse_ops(ed, inv_ops)  # apply inverse operations, get text\n",
    "            \n",
    "            if ed.text != text:\n",
    "                raise ValueError('Texts do not match.')\n",
    "            \n",
    "        except Exception as e:\n",
    "            print(f'seed: {seed}')\n",
    "            print(f'text: \"{text}\":{caret}')\n",
    "            print(f'ed: \"{ed.text}\":{ed.caret}')\n",
    "            print(ops)\n",
    "            print(inv_ops)\n",
    "            print(inv_inv_ops)\n",
    "            raise\n",
    "            "
   ]
  },
  {
   "cell_type": "code",
   "execution_count": 15,
   "id": "8348384f",
   "metadata": {},
   "outputs": [
    {
     "data": {
      "text/plain": [
       "'OK'"
      ]
     },
     "execution_count": 15,
     "metadata": {},
     "output_type": "execute_result"
    }
   ],
   "source": [
    "test_random(EditorDumb, nops=10000) or 'OK'"
   ]
  },
  {
   "cell_type": "markdown",
   "id": "f120ca66",
   "metadata": {},
   "source": [
    "For stresstest generate the text in advance. For insert operations get the parts in the same text."
   ]
  },
  {
   "cell_type": "code",
   "execution_count": 16,
   "id": "617d0606",
   "metadata": {},
   "outputs": [],
   "source": [
    "# 2. Stresstest \n",
    "\n",
    "def setup_operations(n, nops=1000, ops=None, ops_weights=None, ops_args=None):\n",
    "    \"\"\" Prepare operations for the test \"\"\"\n",
    "    if not ops:\n",
    "        ops = ['insert', 'remove', 'remove_word', 'move_caret']\n",
    "        ops_weights = [2,1,1,1]\n",
    "        \n",
    "    if not ops_weights:\n",
    "        ops_weights = [1] * len(ops)\n",
    "    \n",
    "    _args = {\n",
    "        'insert': lambda: text[:100],\n",
    "        'move_caret': lambda: random.randrange(-n // 2, n // 2),\n",
    "        'remove_word': lambda: None,\n",
    "        'remove': lambda: random.randrange(100),\n",
    "    }\n",
    "    ops_args = _args.update(ops_args) if ops_args else _args\n",
    "    \n",
    "    # generate random operations\n",
    "    return list(gen_rand_ops(nops, ops, ops_weights, ops_args))\n",
    "    \n",
    "def test_run(editor, operations):\n",
    "    for op, *args in operations:\n",
    "        getattr(editor, op)(*args)  # apply operations "
   ]
  },
  {
   "cell_type": "code",
   "execution_count": 17,
   "id": "29429d50",
   "metadata": {},
   "outputs": [],
   "source": [
    "N = 100\n",
    "text = rand_text(N)\n",
    "op_insert = setup_operations(N, ops=['insert', 'move_caret'])\n",
    "op_remove = setup_operations(N, ops=['remove', 'move_caret'])"
   ]
  },
  {
   "cell_type": "code",
   "execution_count": 18,
   "id": "9ef7f546",
   "metadata": {},
   "outputs": [
    {
     "name": "stdout",
     "output_type": "stream",
     "text": [
      "12.3 ms ± 1.73 ms per loop (mean ± std. dev. of 10 runs, 10 loops each)\n"
     ]
    }
   ],
   "source": [
    "%%timeit -r 10 -n 10 editor = EditorDumb(text, N//2) ; \n",
    "test_run(editor, op_insert)"
   ]
  },
  {
   "cell_type": "code",
   "execution_count": 19,
   "id": "6ce8e25b",
   "metadata": {},
   "outputs": [
    {
     "name": "stdout",
     "output_type": "stream",
     "text": [
      "1.12 ms ± 481 µs per loop (mean ± std. dev. of 10 runs, 10 loops each)\n"
     ]
    }
   ],
   "source": [
    "%%timeit -r 10 -n 10 editor = EditorDumb(text, N//2) ; \n",
    "test_run(editor, op_remove)"
   ]
  },
  {
   "cell_type": "markdown",
   "id": "75fabe3b",
   "metadata": {},
   "source": [
    "Plot stresstest results on a graph to see amortized complexity. "
   ]
  },
  {
   "cell_type": "code",
   "execution_count": 20,
   "id": "fae43980",
   "metadata": {},
   "outputs": [
    {
     "name": "stdout",
     "output_type": "stream",
     "text": [
      "16.3 ms ± 752 µs per loop (mean ± std. dev. of 10 runs, 10 loops each)\n",
      "23.8 ms ± 2.02 ms per loop (mean ± std. dev. of 10 runs, 10 loops each)\n",
      "35 ms ± 686 µs per loop (mean ± std. dev. of 10 runs, 10 loops each)\n",
      "68.3 ms ± 3.36 ms per loop (mean ± std. dev. of 10 runs, 10 loops each)\n",
      "118 ms ± 1.14 ms per loop (mean ± std. dev. of 10 runs, 10 loops each)\n",
      "356 ms ± 24.9 ms per loop (mean ± std. dev. of 10 runs, 10 loops each)\n",
      "1.09 s ± 90.6 ms per loop (mean ± std. dev. of 10 runs, 10 loops each)\n"
     ]
    }
   ],
   "source": [
    "# Plot it on a graph, to see O(N)\n",
    "stress_size = [32, 64, 128, 256, 512, 1024, 2048]\n",
    "stress_time = []\n",
    "for n in stress_size:\n",
    "    N = n * 1024\n",
    "    text = rand_text(N)\n",
    "    operations = setup_operations(N, nops = 2000)\n",
    "    foo =  %timeit -r 10 -n 10 -o test_run(EditorDumb(text, N//2), operations)\n",
    "    stress_time.append(foo)\n",
    "    \n",
    "worst   = [s.worst   for s in stress_time]\n",
    "best    = [s.best    for s in stress_time]\n",
    "average = [s.average for s in stress_time]\n",
    "stdev   = [s.stdev   for s in stress_time]"
   ]
  },
  {
   "cell_type": "code",
   "execution_count": 21,
   "id": "4b6603ea",
   "metadata": {},
   "outputs": [
    {
     "data": {
      "image/png": "[encoded data removed]",
      "text/plain": [
       "<Figure size 432x288 with 1 Axes>"
      ]
     },
     "metadata": {
      "needs_background": "light"
     },
     "output_type": "display_data"
    }
   ],
   "source": [
    "from matplotlib import pyplot as plt\n",
    "\n",
    "plt.title('Stresstest results for EditorDumb')\n",
    "plt.plot(stress_size, worst, '-r')\n",
    "plt.plot(stress_size, best, '-g')\n",
    "plt.errorbar(stress_size, average, stdev, fmt='xb')\n",
    "plt.ylabel('$\\it{s}$ per loop')\n",
    "plt.xlabel('text size (chars)')\n",
    "plt.ylim(0,1.5)\n",
    "plt.show()"
   ]
  },
  {
   "cell_type": "markdown",
   "id": "dfb69255",
   "metadata": {},
   "source": [
    "**So, the Dumb Solution works on small strings somehow, but it is definitely not an option for larger strings.**"
   ]
  },
  {
   "cell_type": "markdown",
   "id": "208812c9",
   "metadata": {},
   "source": [
    "# Solution with Rope\n",
    "\n",
    "Historical paper on Ropes: http://bitsavers.trailing-edge.com/pdf/xerox/parc/techReports/CSL-94-10_Ropes_Are_Better_Than_Strings.pdf\n",
    "\n",
    "We use rope data type mostly for fun here. In real Text Editor I would probably use a simple plain list of strings instead, since modern computers are undeniably good at adding arrays of numbers (cumulative sums of lengths of hundreds of thousands of strings will be calculated in milliseconds).\n",
    "\n",
    "Since the time limit for this task was harsh, **this solution is just a proof of concept (sketched in several hours)**: no tree self-balancing, either no rebalancing, no minimal size of a leaf, no split, etc. \n",
    "\n",
    "PS: I guess, there is no best choice of data structure for a text editor. It higly depends on an application. For a modern IDE (with multiple carets, deep undo buffers and concurrent access from multiple threads - syncax highlighting, spellchecking, etc.) a simple *piece table* could actually fit better. "
   ]
  },
  {
   "cell_type": "code",
   "execution_count": 22,
   "id": "53cf0cb8",
   "metadata": {},
   "outputs": [],
   "source": [
    "# The Rope \n",
    "\n",
    "class Rope():\n",
    "    def __init__(self, string=''):\n",
    "        self._parent = None\n",
    "        self._left = None\n",
    "        self._right = None\n",
    "        if not isinstance(string, str):\n",
    "            raise NonImplementedError\n",
    "        self.data = string if string != None else ''  # prevent 'None' strings\n",
    "        self.length = len(self.data)\n",
    "  \n",
    "    # Not to forget to update the parent pointer.\n",
    "    @property\n",
    "    def left(self):\n",
    "        return self._left\n",
    "    \n",
    "    @left.setter\n",
    "    def left(self, other):\n",
    "        self._left = other\n",
    "        other._parent = self\n",
    "        \n",
    "    @property\n",
    "    def right(self):\n",
    "        return self._right\n",
    "    \n",
    "    @right.setter\n",
    "    def right(self, other):\n",
    "        self._right = other\n",
    "        other._parent = self\n",
    "        \n",
    "        \n",
    "    def _locate(self, pos): \n",
    "        \"\"\" Find a leaf child node pointed by pos.\n",
    "            Returns: tuple(node, offset)\n",
    "        \"\"\"\n",
    "        if pos < 0 or pos > self.length:  # allow to locate EOL\n",
    "            raise IndexError(f\"pos={pos}, len={self.length}\")\n",
    "            \n",
    "        node = self\n",
    "        offset = 0\n",
    "        \n",
    "        while True:\n",
    "            if node.data != None:\n",
    "                return node, offset\n",
    "            else:\n",
    "                mid = node.left.length\n",
    "                if  pos < mid + offset:\n",
    "                    node = node.left\n",
    "                else:\n",
    "                    offset += mid\n",
    "                    node = node.right\n",
    "\n",
    "    def _walk_up(self):\n",
    "        \"\"\" Yield all parent nodes up to root node. \"\"\"\n",
    "        p = self._parent\n",
    "        while p != None:\n",
    "            yield p\n",
    "            p = p._parent\n",
    "                \n",
    "    def _walk_left(self):\n",
    "        \"\"\" Yield all leaf nodes to the left starting from this one.\n",
    "        \"\"\"\n",
    "        cur = self\n",
    "        stack = []\n",
    "        \n",
    "        # First, go up to the root node. \n",
    "        # Init the stack with parent nodes we are to the left to.\n",
    "        for p in self._walk_up():\n",
    "            if cur == p.right:\n",
    "                stack.insert(0, p)\n",
    "            cur = p\n",
    "        \n",
    "        cur = self\n",
    "        # Now go down to the right.\n",
    "        while True:\n",
    "            if cur is not None:\n",
    "                stack.append(cur)\n",
    "                cur = cur.right\n",
    "            # Back track\n",
    "            elif(stack):\n",
    "                cur = stack.pop()\n",
    "                if cur.data != None:\n",
    "                    yield cur\n",
    "                # Visit the left subtree\n",
    "                cur = cur.left\n",
    "            else:\n",
    "                break   \n",
    "    \n",
    "    \n",
    "    def _walk_right(self):\n",
    "        \"\"\" Symmetric to _walk_left.\n",
    "        \"\"\"\n",
    "        cur = self\n",
    "        stack = []\n",
    "        \n",
    "        # First, go up to the root node. \n",
    "        # Init the stack with parent nodes we are to the left to.\n",
    "        for p in self._walk_up():\n",
    "            if cur == p.left:\n",
    "                stack.insert(0, p)\n",
    "            cur = p\n",
    "        \n",
    "        cur = self\n",
    "        \n",
    "        # Now go down to the left.\n",
    "        while True:\n",
    "            if cur is not None:\n",
    "                stack.append(cur)\n",
    "                cur = cur.left\n",
    "            # Back track\n",
    "            elif(stack):\n",
    "                cur = stack.pop()\n",
    "                if cur.data != None:\n",
    "                    yield cur\n",
    "                # Visit the right subtree\n",
    "                cur = cur.right\n",
    "            else:\n",
    "                break     \n",
    "    \n",
    "    \n",
    "    def insert(self, pos, string):\n",
    "        \"\"\" Insert fragment in rope. \"\"\"\n",
    "        \n",
    "        if self.length == 0:  # Rope is empty, no childs or parents\n",
    "            self.data = string\n",
    "            self.length = len(string)\n",
    "            return\n",
    "        \n",
    "        node, offset = self._locate(pos)  # Find subrope\n",
    "        index = pos - offset \n",
    "        \n",
    "        # Divide the node\n",
    "        data = node.data\n",
    "        node.data = None \n",
    "        \n",
    "        new   = self.__class__(string)\n",
    "        left  = self.__class__(data[:index])\n",
    "        right = self.__class__(data[index:])\n",
    "        \n",
    "        if index < len(data):  # add to smaller one\n",
    "            node.left = left + new\n",
    "            node.right = right\n",
    "        else:\n",
    "            node.left = left\n",
    "            node.right = new + right\n",
    "        \n",
    "        node.length = node.left.length + node.right.length\n",
    "        # Update parent counts\n",
    "        for p in node._walk_up():\n",
    "            p.length = p.left.length + p.right.length\n",
    "\n",
    "    \n",
    "    def remove(self, start, end):\n",
    "        \"\"\" Remove part of rope (end not included).\n",
    "        \"\"\"\n",
    "        if start == end:\n",
    "            return \n",
    "        \n",
    "        if end <= start or start < 0:\n",
    "            raise ValueError()\n",
    "        \n",
    "        node_start, offset_start = self._locate(start)\n",
    "        node_end, offset_end = self._locate(end-1)\n",
    "        \n",
    "        data_start = node_start.data[:start - offset_start]\n",
    "        data_end = node_end.data[end - offset_end: ]\n",
    "    \n",
    "        \n",
    "        updated = []\n",
    "        if node_start == node_end:  # same node\n",
    "            node_start.data = data_start + data_end\n",
    "            node_start.length = len(node_start.data)\n",
    "            updated.append(node_start)\n",
    "            \n",
    "        else:\n",
    "            node_start.data = data_start\n",
    "            node_end.data = data_end\n",
    "            node_start.length = len(data_start)\n",
    "            node_end.length = len(data_end)\n",
    "            \n",
    "            \n",
    "            # update counts and vanish nodes in between\n",
    "            updated.append(node_start)\n",
    "            updated.append(node_end)\n",
    "\n",
    "            iterate = node_start._walk_right()\n",
    "            next(iterate)  # skip node_start\n",
    "\n",
    "            for node in iterate:\n",
    "                if node == node_end:\n",
    "                    break\n",
    "\n",
    "                elif node.data != None: # Leaf nodes\n",
    "                    node.data = ''\n",
    "                    node.length = 0\n",
    "                    updated.append(node)   \n",
    "\n",
    "        #FIXME: Suboptimal tree traversal\n",
    "        for n in updated:\n",
    "            for p in n._walk_up():\n",
    "                p.length = p._left.length + p._right.length\n",
    "            \n",
    "            \n",
    "    def rfind(self, char, start, end):\n",
    "        \"\"\" Find character from right to left in specified range. \"\"\"\n",
    "        node, offset = self._locate(end)\n",
    "        \n",
    "        nstart = max(0, start - offset)\n",
    "        nend = end - offset\n",
    "        \n",
    "        # find in current node\n",
    "        pos = node.data.rfind(char, nstart, nend)\n",
    "        \n",
    "        if pos != -1:  # found\n",
    "            return offset + pos\n",
    "        else:\n",
    "            # find further to the left \n",
    "            left_nodes = self._walk_left()\n",
    "            next(left_nodes)  # pop current one\n",
    "            noffset = offset\n",
    "            for node in left_nodes:\n",
    "                noffset -= node.length\n",
    "                nstart = start - noffset\n",
    "                pos = node.data.rfind(char, nstart)\n",
    "                if pos != -1:\n",
    "                    return noffset + pos\n",
    "                    \n",
    "        return -1  # not found\n",
    "    \n",
    "    def __str__(self):\n",
    "        if self.length == 0:\n",
    "            return ''\n",
    "        return ''.join(x.data for x in self._walk_right())\n",
    "    \n",
    "    \n",
    "    def __getitem__(self, key) :\n",
    "        if isinstance(key, slice) :\n",
    "            #Get the start, stop, and step from the slice\n",
    "            start, stop, step = key.indices(self.length)\n",
    "            return str(self)[start:stop:step]  # TODO: don't have to convert whole rope in str\n",
    "            \n",
    "        elif isinstance(key, int) :\n",
    "            if key < 0 : # Negative indices\n",
    "                key += len(self)\n",
    "            if key < 0 or key >= self.length :\n",
    "                raise IndexError(f\"The index ({key}) is out of range.\")\n",
    "            part, offset = self._locate(key)\n",
    "            pos = key - offset\n",
    "            return part.data[pos:pos+1]\n",
    "        \n",
    "        else:\n",
    "            raise TypeError(\"Invalid argument type.\")     \n",
    "            \n",
    "    def __len__(self):\n",
    "        return self.length\n",
    "    \n",
    "    def __add__(self, other):\n",
    "        \"\"\" Create a common parent for 'self' and 'other',\n",
    "            if self and other are not empty ropes.\n",
    "        \"\"\"\n",
    "        if isinstance(other, str):\n",
    "            other = self.__class__(other)\n",
    "        \n",
    "        if self and other:\n",
    "            ret = self.__class__()  # New\n",
    "            ret.left = self\n",
    "            ret.right = other\n",
    "            ret.data = None\n",
    "            ret.length = self.length + other.length\n",
    "            return ret\n",
    "        else:\n",
    "            return self or other\n",
    "    \n",
    "    def __repr__(self):\n",
    "        if self.data != None:  # leaf node\n",
    "            return f\"R{repr(self.data)}\"\n",
    "        else:\n",
    "            return (\n",
    "                    f\"{'R(' if self.left != None else ''}\"\n",
    "                    f\"{repr(self.left)}\"\n",
    "                    f\"{'*' if self._parent == None else '^'}\"\n",
    "                    f\"{repr(self.right)}\"\n",
    "                    f\"{')' if self.right != None else ''}\"\n",
    "                )"
   ]
  },
  {
   "cell_type": "code",
   "execution_count": 23,
   "id": "1faa28f1",
   "metadata": {},
   "outputs": [
    {
     "data": {
      "text/plain": [
       "'1e'"
      ]
     },
     "execution_count": 23,
     "metadata": {},
     "output_type": "execute_result"
    }
   ],
   "source": [
    "# Simple checks\n",
    "\n",
    "a = Rope('abc')\n",
    "assert a[0] == 'a'\n",
    "assert a[1] == 'b'\n",
    "\n",
    "b = a + Rope('def')\n",
    "assert b[0] == 'a'\n",
    "assert b[3] == 'd'\n",
    "assert b.length == 6\n",
    "#b[6] # index error\n",
    "#b[-1] # index error\n",
    "\n",
    "b.insert(1, '123')\n",
    "assert b[1] == '1'\n",
    "\n",
    "#print([x for x in b._locate(1)[0]._walk_right()])\n",
    "assert str(b) == 'a123bcdef'\n",
    "assert ''.join([x.data for x in b._walk_left()]) == 'defbc123a'\n",
    "\n",
    "assert b.length == 9\n",
    "\n",
    "b.remove(0,1)\n",
    "assert str(b) == '123bcdef'\n",
    "\n",
    "b.remove(7,8)\n",
    "assert str(b) == '123bcde'\n",
    "\n",
    "assert b.rfind('3',0,len(b)-1) == 2\n",
    "\n",
    "b.remove(1,6)\n",
    "assert str(b) == '1e'\n",
    "b[0:2]"
   ]
  },
  {
   "cell_type": "markdown",
   "id": "057c768f",
   "metadata": {},
   "source": [
    "### Editor Rope\n",
    "\n",
    "\n",
    "OK, now we hope to get amortized O(logN) insted of O(N)."
   ]
  },
  {
   "cell_type": "code",
   "execution_count": 24,
   "id": "de2b64d1",
   "metadata": {},
   "outputs": [
    {
     "data": {
      "text/plain": [
       "<__main__.EditorRope at 0x7f50fcb266d0>"
      ]
     },
     "execution_count": 24,
     "metadata": {},
     "output_type": "execute_result"
    }
   ],
   "source": [
    "# Sixth, fast implementation.\n",
    "\n",
    "class EditorRope():\n",
    "    def __init__(self, text: str, caret: int) -> None:\n",
    "        self._rope = Rope(text)\n",
    "        self._caret = 0\n",
    "        self.move_caret(caret)\n",
    "    \n",
    "    @property\n",
    "    def caret(self):\n",
    "        return self._caret\n",
    "    \n",
    "    @caret.setter\n",
    "    def caret(self, pos):\n",
    "        cur = self._caret\n",
    "        step = pos - cur\n",
    "        self.move_caret(step)\n",
    "        \n",
    "    @property\n",
    "    def text(self):\n",
    "        return str(self._rope)\n",
    "    \n",
    "    @text.setter\n",
    "    def text(self, string):\n",
    "        del self.rope\n",
    "        self._rope = Rope(string)\n",
    "        self.move_caret(self._caret)\n",
    "    \n",
    "    def insert(self, string: str) -> None:\n",
    "        rope = self._rope\n",
    "        pos = self._caret\n",
    "        \n",
    "        rope.insert(pos, string)  \n",
    "        self._caret += len(string)\n",
    "\n",
    "    def remove(self, n:int=1, ret=False) -> str:\n",
    "        ''' Remove text (always to the left of the caret).\n",
    "            Returns: removed text if <ret> is True.'''\n",
    "        rope = self._rope\n",
    "        caret = self._caret\n",
    "        \n",
    "        new_caret = max(0, caret - abs(n))  # caret >= 0\n",
    "        retval = str(rope[new_caret:caret]) if ret else None\n",
    "        \n",
    "        rope.remove(new_caret,caret)\n",
    "        \n",
    "        self._caret = new_caret\n",
    "        return retval\n",
    "    \n",
    "    def _word_back(self) -> int:\n",
    "        ''' Find a word backwards from the caret position.\n",
    "            A word is either a sequence of non-space characters \n",
    "            or a sequence of spaces. \n",
    "            '''\n",
    "        rope = self._rope\n",
    "        right = self._caret\n",
    "        \n",
    "        if right == 0:\n",
    "            return None\n",
    "        \n",
    "        wpos = 0\n",
    "        \n",
    "        if rope[right-1] == ' ':  # the word is a sequence of spaces\n",
    "            wpos = right-1\n",
    "            \n",
    "            while wpos > 0:\n",
    "                if rope[wpos-1] != ' ':  # FIXME: still log(N)\n",
    "                    break\n",
    "                else:\n",
    "                    wpos -= 1\n",
    "        else:\n",
    "            sp = rope.rfind(\" \", 0, right-1)  # position of the last space before caret\n",
    "            if sp != -1:  # rightmost space found\n",
    "                wpos = sp + 1\n",
    "                \n",
    "        return wpos\n",
    "\n",
    "    def remove_word(self, ret=False) -> str:\n",
    "        ''' Removes a word to the left of a caret.\n",
    "            Returns: removed text if <ret> is True.'''\n",
    "        rope = self._rope\n",
    "        caret = self._caret\n",
    "        \n",
    "        if caret == 0:\n",
    "            return ''\n",
    "        \n",
    "        word_pos = self._word_back()\n",
    "        retval = self.substr(word_pos, caret) if ret else None\n",
    "        self.remove(caret - word_pos)\n",
    "        \n",
    "        return retval\n",
    "\n",
    "    def move_caret(self, step:int) -> int:\n",
    "        ''' Returns: new caret position.'''\n",
    "        caret = self._caret\n",
    "        rope = self._rope \n",
    "        \n",
    "        caret += step\n",
    "        self._caret = min(max(0, caret), len(rope))  # 0 <= caret <= len(T)\n",
    "        return self._caret\n",
    "    \n",
    "\n",
    "    def substr(self, start:int=None, end:int=None) -> str:\n",
    "        ''' Returns: self.text[start:end]. '''\n",
    "        return str(self._rope[start:end])\n",
    "\n",
    "\n",
    "EditorRope('hehe',1)"
   ]
  },
  {
   "cell_type": "code",
   "execution_count": 25,
   "id": "68b4db48",
   "metadata": {},
   "outputs": [
    {
     "data": {
      "text/plain": [
       "'OK'"
      ]
     },
     "execution_count": 25,
     "metadata": {},
     "output_type": "execute_result"
    }
   ],
   "source": [
    "test_examples(EditorRope) or 'OK'"
   ]
  },
  {
   "cell_type": "code",
   "execution_count": 26,
   "id": "b2c4fbac",
   "metadata": {},
   "outputs": [
    {
     "data": {
      "text/plain": [
       "'OK'"
      ]
     },
     "execution_count": 26,
     "metadata": {},
     "output_type": "execute_result"
    }
   ],
   "source": [
    "test_random(EditorRope, nops=200) or 'OK'"
   ]
  },
  {
   "cell_type": "code",
   "execution_count": 27,
   "id": "da562921",
   "metadata": {},
   "outputs": [
    {
     "name": "stdout",
     "output_type": "stream",
     "text": [
      "59.1 ms ± 3.08 ms per loop (mean ± std. dev. of 10 runs, 10 loops each)\n",
      "63.8 ms ± 3.02 ms per loop (mean ± std. dev. of 10 runs, 10 loops each)\n",
      "53.8 ms ± 3.23 ms per loop (mean ± std. dev. of 10 runs, 10 loops each)\n",
      "55.8 ms ± 3.04 ms per loop (mean ± std. dev. of 10 runs, 10 loops each)\n",
      "48.1 ms ± 3.14 ms per loop (mean ± std. dev. of 10 runs, 10 loops each)\n",
      "55.5 ms ± 708 µs per loop (mean ± std. dev. of 10 runs, 10 loops each)\n",
      "84.4 ms ± 263 µs per loop (mean ± std. dev. of 10 runs, 10 loops each)\n",
      "86.2 ms ± 4.19 ms per loop (mean ± std. dev. of 10 runs, 10 loops each)\n"
     ]
    }
   ],
   "source": [
    "rstress_size = [64, 128, 256, 512, 1024, 2048, 4096, 8192]\n",
    "rstress_time = []\n",
    "for n in rstress_size:\n",
    "    N = n * 1024\n",
    "    text = rand_text(N)\n",
    "    operations = setup_operations(N, nops = 2000)\n",
    "    foo =  %timeit -r 10 -n 10 -o test_run(EditorRope(text, N//2), operations)\n",
    "    rstress_time.append(foo)\n",
    "    \n",
    "rworst   = [s.worst   for s in rstress_time]\n",
    "rbest    = [s.best    for s in rstress_time]\n",
    "raverage = [s.average for s in rstress_time]\n",
    "rstdev   = [s.stdev   for s in rstress_time]"
   ]
  },
  {
   "cell_type": "code",
   "execution_count": 28,
   "id": "7ba2820b",
   "metadata": {},
   "outputs": [
    {
     "data": {
      "image/png": "[encoded data removed]",
      "text/plain": [
       "<Figure size 432x288 with 1 Axes>"
      ]
     },
     "metadata": {
      "needs_background": "light"
     },
     "output_type": "display_data"
    }
   ],
   "source": [
    "from matplotlib import pyplot as plt\n",
    "\n",
    "\n",
    "plt.title('Stresstest results for EditorRope')\n",
    "plt.plot(rstress_size, rworst, '-r')\n",
    "plt.plot(rstress_size, rbest, '-g')\n",
    "plt.errorbar(rstress_size, raverage, rstdev, fmt='xb')\n",
    "plt.ylabel('$\\it{s}$ per loop')\n",
    "plt.xlabel('text size (thousands of chars)')\n",
    "plt.ylim(0,1.5)\n",
    "plt.show()"
   ]
  },
  {
   "cell_type": "markdown",
   "id": "36aa751d",
   "metadata": {},
   "source": [
    "**With the same scale on y axis it looks almost constant =).**"
   ]
  },
  {
   "cell_type": "markdown",
   "id": "ca6e3fbd",
   "metadata": {},
   "source": [
    "**EditorRope is still not O(logN) technically, because implementation is far from perfect, but incomparably better then the EditorDumb**."
   ]
  },
  {
   "cell_type": "markdown",
   "id": "d6eeab4c",
   "metadata": {},
   "source": [
    "*-- Fin --*"
   ]
  }
 ],
 "metadata": {
  "kernelspec": {
   "display_name": "Python 3",
   "language": "python",
   "name": "python3"
  },
  "language_info": {
   "codemirror_mode": {
    "name": "ipython",
    "version": 3
   },
   "file_extension": ".py",
   "mimetype": "text/x-python",
   "name": "python",
   "nbconvert_exporter": "python",
   "pygments_lexer": "ipython3",
   "version": "3.8.10"
  }
 },
 "nbformat": 4,
 "nbformat_minor": 5
}
